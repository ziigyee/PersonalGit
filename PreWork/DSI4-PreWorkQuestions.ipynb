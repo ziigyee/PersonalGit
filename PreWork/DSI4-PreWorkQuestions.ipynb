{
 "cells": [
  {
   "cell_type": "markdown",
   "metadata": {},
   "source": [
    "###  LINEAR ALGEBRA  ###\n",
    "\n",
    "1. What is a vector?\n",
    " Vector is a unit of measure have Magnitude and Direction \n",
    "\n",
    "2. What is a matrix? \n",
    " A rectangular array of numbers N rows M columns\n",
    "\n",
    "3. What is the difference between a matrix and a vector?\n",
    " A matrix is simply a rectangular array of numbers and a vector is a row (or column) of a matrix.\n",
    "\n",
    "4. What is the result of 5 * [1, 7, 2]?\n",
    " Duplicates 5 times of [1,7,2] = [1, 7, 2, 1, 7, 2, 1, 7, 2, 1, 7, 2, 1, 7, 2]\n",
    " if we do 5*np.array([1,7,2]) = array([ 5, 35, 10])\n",
    "\n",
    "5. What is the dot product between two vectors?\n",
    " Dot product of 2 vectors is a scalar. Eg: X = (1,2,3) Y = (4,5,6) X.Y = np.dot(X,Y) = 32\n",
    "\n",
    "6. What are the requirements for a dot product between two matrices?\n",
    " The number of columns of the 1st matrix must equal the number of rows of the 2nd matrix."
   ]
  },
  {
   "cell_type": "markdown",
   "metadata": {},
   "source": [
    "### STATISTICS ###\n",
    "1. What are mean, median, mode, standard deviation of [8,4,2,1,4,5]?\n",
    " Mean: 4  Median: 4  Mode: 4  Std Dev: 2.23606797749979\n",
    "\n",
    "2. What is a distribution? What is a normal distribution??\n",
    " An order or pattern formed by the tendency of a sufficiently large number of observations to group themselves around a central value.\n",
    "\n",
    " A normal distribution, sometimes called the bell curve, is a distribution that occurs naturally in many situations.\n",
    "- The mean, mode and median are all equal.\n",
    "- The curve is symmetric at the center (i.e. around the mean, μ).\n",
    "- Exactly half of the values are to the left of center and exactly half the values are to the right.\n",
    "- The total area under the curve is 1.\n",
    "\n",
    "3. What is the 25th percentile of a distribution?\n",
    " The first quartile - The most common definition of a percentile is a number where a certain percentage of values fall below that number.\n",
    "     np.percentile(arr, 25)\n",
    "\n",
    "4. What is the interquartile range?\n",
    " IQR = is the 75th percentile - 25th percentile. It is the spread of the middle (50%) of the Dataset.\n",
    "    iqr = np.subtract(*np.percentile(x, [75, 25]))"
   ]
  },
  {
   "cell_type": "markdown",
   "metadata": {},
   "source": [
    "### PYTHON ###\n",
    "\n",
    "1. What is a variable?\n",
    " Variables are nothing but reserved memory locations to store values.\n",
    "\n",
    "2. What is a function?\n",
    " Functions are a construct to structure programs. Used to utilize code in more than one place in a program.\n",
    " They can be made to take in to multiple inputs or not, return one or more values or not.\n",
    "\n",
    "3. What is the difference between a float and an integer?\n",
    " Integers are whole numbers. Floats are fractional numbers (decimals with fractional part)\n",
    "\n",
    "4. What is the difference between a string and a character?\n",
    " Characters are indiviual, strings are an array of characters.\n",
    "\n",
    "5. What is the difference between a list and a dictionary? Give 2 differences?\n",
    " Diff 1: Elements present in List maintain their order. VS Dictionary is an unordered collection of key-value pairs.\n",
    " Diff 2: Elements are accessed through their index values. VS Dictionary elements are accessed by using it’s key value.\n",
    "\n",
    "6. What is the difference between a tuple and a list?\n",
    " A tuple is Immutable. Tuples are faster than lists. If you're defining a constant set of values and all you're ever\n",
    " going to do with it is iterate through it, use a tuple instead of a list.\n",
    " Some tuples can be used as dictionary keys (specifically, tuples that contain immutable values like strings, numbers,\n",
    " and other tuples).\n",
    " Lists can never be used as dictionary keys, because lists are not immutable.\n",
    "\n",
    "7. How do you get the 3th element of a list?\n",
    " list[2]  lists start from index 0\n",
    "\n",
    "8. How to you get the first 5 elements of a list?\n",
    " list[:5] 5 is the stopper for element 4. Therefore slicing to :5 returns index 0 to 4\n",
    "\n",
    "9. How do you get all the keys of a dictionary?\n",
    " dictionary.keys() \n",
    "\n",
    "10. How do you add a new key and value in an existing dictionary?\n",
    " dict['mynewkey'] = 'mynewvalue'  or dict.update({'newkey': \"new value\"})\n",
    "\n",
    "11. How do you concatenate two lists together (e.g. concatenate [1,2,3] and [4,5] to create [1,2,3,4,5])\n",
    " a+b\n",
    " if using np.arrays: a = np.array([1,2,3]) b = np.array([4,5]) use np.concatenate([a,b])\n",
    "\n",
    "12. How do you check if an element (e.g. 5) is in a list (e.g. [1,2,3,4,6])?\n",
    " a = [1,2,3,4,6]\n",
    " if 5 in a:\n",
    "    print('Yes')    \n",
    " else:\n",
    "    print('Nope')\n",
    "\n",
    " 13. In this python code block, how many times is “hello” printed;\n",
    " 30 times.\n"
   ]
  },
  {
   "cell_type": "code",
   "execution_count": 69,
   "metadata": {},
   "outputs": [
    {
     "name": "stdout",
     "output_type": "stream",
     "text": [
      "hello\n",
      "hello\n",
      "hello\n",
      "hello\n",
      "hello\n",
      "hello\n",
      "hello\n",
      "hello\n",
      "hello\n",
      "hello\n",
      "hello\n",
      "hello\n",
      "hello\n",
      "hello\n",
      "hello\n",
      "hello\n",
      "hello\n",
      "hello\n",
      "hello\n",
      "hello\n",
      "hello\n",
      "hello\n",
      "hello\n",
      "hello\n",
      "hello\n",
      "hello\n",
      "hello\n",
      "hello\n",
      "hello\n",
      "hello\n",
      "30\n"
     ]
    }
   ],
   "source": [
    "count = 0\n",
    "for i in range(5):\n",
    " for i in range(6):\n",
    "    print('hello')\n",
    "    count+=1\n",
    "print(count)"
   ]
  },
  {
   "cell_type": "code",
   "execution_count": 71,
   "metadata": {},
   "outputs": [
    {
     "name": "stdout",
     "output_type": "stream",
     "text": [
      "1\n",
      "2\n",
      "3\n",
      "4\n",
      "5\n",
      "6\n",
      "7\n",
      "8\n",
      "9\n",
      "10\n",
      "11\n",
      "12\n",
      "13\n",
      "14\n",
      "15\n",
      "16\n",
      "17\n",
      "18\n",
      "19\n",
      "20\n",
      "21\n",
      "22\n",
      "23\n",
      "24\n",
      "25\n",
      "26\n",
      "27\n",
      "28\n",
      "29\n",
      "30\n",
      "31\n",
      "32\n",
      "33\n",
      "34\n",
      "35\n",
      "36\n",
      "37\n",
      "38\n",
      "39\n",
      "40\n",
      "41\n",
      "42\n",
      "43\n",
      "44\n",
      "45\n",
      "46\n",
      "47\n",
      "48\n",
      "49\n",
      "50\n"
     ]
    }
   ],
   "source": [
    "### EXERCISES ###\n",
    "\n",
    "#1. Write a for loop that prints numbers from 1 to 50.\n",
    "# range starts from 0 therefore +1\n",
    "for i in range(50):\n",
    "    print(i+1)\n"
   ]
  },
  {
   "cell_type": "code",
   "execution_count": 82,
   "metadata": {},
   "outputs": [
    {
     "name": "stdout",
     "output_type": "stream",
     "text": [
      "43\n",
      "45\n",
      "47\n",
      "49\n",
      "51\n",
      "53\n",
      "55\n",
      "57\n",
      "59\n",
      "61\n",
      "63\n",
      "65\n",
      "67\n",
      "69\n",
      "71\n",
      "73\n",
      "75\n",
      "77\n",
      "79\n",
      "81\n",
      "83\n",
      "85\n",
      "87\n",
      "89\n",
      "91\n",
      "93\n",
      "95\n",
      "97\n",
      "99\n",
      "101\n"
     ]
    }
   ],
   "source": [
    "#2. Write a for loop to print the first 30 odd numbers starting from 42.\n",
    "\n",
    "start = 42\n",
    "count = 0\n",
    "\n",
    "while count < 30:\n",
    "    start+= 1\n",
    "    if(start %2 != 0):\n",
    "        count+=1\n",
    "        print(start)\n",
    "        #print('No:{} count:{}'.format(start, count))    #to check"
   ]
  },
  {
   "cell_type": "code",
   "execution_count": 95,
   "metadata": {},
   "outputs": [
    {
     "name": "stdout",
     "output_type": "stream",
     "text": [
      "ciao john\n",
      "ciao maria\n",
      "ciao ziig\n",
      "ciao edo\n",
      "['ciao john', 'ciao maria', 'ciao ziig', 'ciao edo']\n",
      "['ciao john', 'ciao maria', 'ciao ziig', 'ciao edo']\n"
     ]
    }
   ],
   "source": [
    "#3.  Write a for loop that iterates through a list of names like [“john”, “maria”, etc.] and prints \n",
    "#    the strings [“ciao john”, “ciao maria”, etc.]\n",
    "\n",
    "a = ['john', 'maria', 'ziig', 'edo']\n",
    "\n",
    "## Just Printing\n",
    "for i in a:\n",
    "    print('ciao '+i)\n",
    "\n",
    "## New List b\n",
    "b = []\n",
    "for i in a:\n",
    "    b.append('ciao '+i)\n",
    "\n",
    "print(b)\n",
    "\n",
    "## One Liner\n",
    "c = [\"ciao \"+i for i in a]\n",
    "print(c)"
   ]
  },
  {
   "cell_type": "code",
   "execution_count": 5,
   "metadata": {},
   "outputs": [
    {
     "data": {
      "text/plain": [
       "'surname'"
      ]
     },
     "execution_count": 5,
     "metadata": {},
     "output_type": "execute_result"
    }
   ],
   "source": [
    "#4. Given the dictionary {“name”:”angela”, “surname\":”lee”}, how do you extract the value of the surname (i.e. “lee”)?\n",
    "\n",
    "a = {'name': 'angela', 'surname':'lee'}\n",
    "\n",
    "a.get('surname')\n",
    "\n",
    "a.keys()[a.values().index('lee')] # Prints Surname / Reverse lookup"
   ]
  },
  {
   "cell_type": "code",
   "execution_count": 8,
   "metadata": {},
   "outputs": [
    {
     "name": "stdout",
     "output_type": "stream",
     "text": [
      "MIKEMIKE\n"
     ]
    }
   ],
   "source": [
    "#5.  Write a function that takes a string as input (e.g. “mike”) and returns the same string, \n",
    "# uppercase, repeated two times (e.g. “MIKEMIKE”).\n",
    "\n",
    "a = 'mike'\n",
    "\n",
    "def upperdouble(string):\n",
    "    print((string+string).upper())\n",
    "\n",
    "upperdouble(a)"
   ]
  },
  {
   "cell_type": "code",
   "execution_count": 10,
   "metadata": {},
   "outputs": [
    {
     "name": "stdout",
     "output_type": "stream",
     "text": [
      "this is not a name\n",
      "Hello john\n",
      "mike\n"
     ]
    }
   ],
   "source": [
    "#6. What is the output of the following code snipper\n",
    "\n",
    "def say_hello(name):\n",
    "    if len(name)<2:\n",
    "        print('this is not a name')\n",
    "    else:\n",
    "        print 'Hello ' + name.lower()\n",
    "    return 'mike'\n",
    "    \n",
    "say_hello('c')\n",
    "print(say_hello('JOHN'))\n",
    "\n",
    "#this is not a name\n",
    "#Hello john\n",
    "#mike"
   ]
  },
  {
   "cell_type": "code",
   "execution_count": 24,
   "metadata": {},
   "outputs": [
    {
     "name": "stdout",
     "output_type": "stream",
     "text": [
      "['apple', 'banana', 'coconut', 'durian', 'elderberry', 'fig', 'grapefruit', 'honeydew', 'jackfruit']\n",
      "[2, 6, 3, 4, 0, 8, 5, 1, 7]\n"
     ]
    }
   ],
   "source": [
    "#7. In this list of fruits, how do you sort the fruits in alphabetical order, and return the index of\n",
    "#the fruits in the original list. (Hint: for loops)\n",
    "#orig_list = [‘elderberry’, ‘honeydew’, ‘apple’, ‘coconut’, ‘durian’, ‘grapefruit’, ‘banana’,‘jackfruit’, ‘fig’]\n",
    "\n",
    "#Output\n",
    "#sort_list = [‘apple’, ‘banana’, ‘coconut’, ‘durian’, ‘elderberry’, ‘fig’, ‘grapefruit’, ‘honeydew’, ‘jackfruit’]\n",
    "#Index: (2,6, 3, 4, 0, 8, 5, 1, 7)\n",
    "\n",
    "orig_list = ['elderberry', 'honeydew', 'apple', 'coconut', 'durian', 'grapefruit', 'banana','jackfruit', 'fig']\n",
    "\n",
    "orig_indexes = range(len(orig_list))\n",
    "\n",
    "#print(orig_indexes)\n",
    "\n",
    "sort_list = sorted(orig_list)\n",
    "\n",
    "sorted_index = []\n",
    "\n",
    "print(sort_list)\n",
    "\n",
    "print([b[0] for b in sorted(enumerate(orig_list),key=lambda i:i[1])])"
   ]
  },
  {
   "cell_type": "code",
   "execution_count": 43,
   "metadata": {},
   "outputs": [
    {
     "data": {
      "text/plain": [
       "50"
      ]
     },
     "execution_count": 43,
     "metadata": {},
     "output_type": "execute_result"
    }
   ],
   "source": [
    "#8. Write a simple function that returns the word score of a string. The scoring should be in proportion to\n",
    "# the position of a letter in the alphabet. (Let A be 1 point, and Z be 26 points) Function must return a score variable.\n",
    "# a. Eg. scorer(“apple”) - Score = 1+16+16 + 12 + 5 = 50\n",
    "\n",
    "## VERSION 1 ##\n",
    "\n",
    "char_list_lower = ['a', 'b', 'c', 'd', 'e', 'f', 'g', 'h', 'i', 'j', 'k', 'l', 'm', 'n', 'o', 'p', 'q', 'r', 's', 't', 'u', 'v', 'w', 'x', 'y', 'z']\n",
    "\n",
    "def scorer(a):\n",
    "    sum_val = 0\n",
    "    \n",
    "    for c in list(a):  \n",
    "        if c in char_list_lower:\n",
    "            sum_val += char_list_lower.index(c)+1\n",
    "        else:\n",
    "            print('Please Enter a proper word as a String')\n",
    "    return(sum_val)\n",
    "\n",
    "name = 'apple'\n",
    "scorer(name)\n",
    "    \n"
   ]
  },
  {
   "cell_type": "code",
   "execution_count": 52,
   "metadata": {},
   "outputs": [
    {
     "name": "stdout",
     "output_type": "stream",
     "text": [
      "apple score is made up of: [1, 16, 16, 12, 5]\n"
     ]
    },
    {
     "data": {
      "text/plain": [
       "50"
      ]
     },
     "execution_count": 52,
     "metadata": {},
     "output_type": "execute_result"
    }
   ],
   "source": [
    "## VERSION 1B with Print Out ##\n",
    "\n",
    "char_list_lower = ['a', 'b', 'c', 'd', 'e', 'f', 'g', 'h', 'i', 'j', 'k', 'l', 'm', 'n', 'o', 'p', 'q', 'r', 's', 't', 'u', 'v', 'w', 'x', 'y', 'z']\n",
    "\n",
    "def scorer(a):\n",
    "    sum_val = []\n",
    "    \n",
    "    for c in list(a):  \n",
    "        if c in char_list_lower:\n",
    "            sum_val.append(char_list_lower.index(c)+1)\n",
    "        else:\n",
    "            print('Please Enter a proper word as a String')\n",
    "    \n",
    "    print('{} score is made up of: {}'.format(a, sum_val)) #checking the breakdown\n",
    "    \n",
    "    return(sum(sum_val))\n",
    "\n",
    "name = 'apple'\n",
    "scorer(name)\n"
   ]
  },
  {
   "cell_type": "code",
   "execution_count": 53,
   "metadata": {},
   "outputs": [
    {
     "name": "stdout",
     "output_type": "stream",
     "text": [
      "ziqiang score is made up of: [26, 9, 17, 9, 1, 14, 7]\n"
     ]
    },
    {
     "data": {
      "text/plain": [
       "83"
      ]
     },
     "execution_count": 53,
     "metadata": {},
     "output_type": "execute_result"
    }
   ],
   "source": [
    "## VERSION 1C with import string -> string.ascii_lowercase ##\n",
    "\n",
    "import string\n",
    "\n",
    "char_list_lower = string.ascii_lowercase\n",
    "\n",
    "def scorer(a):\n",
    "    sum_val = []\n",
    "    \n",
    "    for c in list(a):  \n",
    "        if c in char_list_lower:\n",
    "            sum_val.append(char_list_lower.index(c)+1)\n",
    "        else:\n",
    "            print('Please Enter a proper word as a String')\n",
    "    \n",
    "    print('{} score is made up of: {}'.format(a, sum_val)) #checking the breakdown\n",
    "    \n",
    "    return(sum(sum_val))\n",
    "\n",
    "name = 'ziqiang'\n",
    "scorer(name)"
   ]
  },
  {
   "cell_type": "code",
   "execution_count": 110,
   "metadata": {},
   "outputs": [
    {
     "name": "stdout",
     "output_type": "stream",
     "text": [
      "[9, 8, 7, 6, 5, 4, 3, 2, 1]\n",
      "[9, 8, 7, 6, 5, 4, 3, 2, 1]\n",
      "[9, 8, 7, 6, 5, 4, 3, 2, 1]\n"
     ]
    }
   ],
   "source": [
    "#Given the matrix m = [[1,2,3],[4,5,6],[7,8,9]]:\n",
    "\n",
    "m = [[1,2,3],[4,5,6],[7,8,9]]\n",
    "\n",
    "#a. Print the elements backwards: 9,8,7,6,5,4,3,2,1\n",
    "\n",
    "#using Numpy then reverse slice\n",
    "import numpy as np\n",
    "print(np.array(m).flatten()[::-1].tolist())\n",
    "\n",
    "#no Numpy #this flattens then reverse slice\n",
    "print([x for y in m for x in y][::-1])\n",
    "\n",
    "#no Numpy #no slicing #using the reverse method\n",
    "new_list = [x for y in m for x in y]\n",
    "new_list.reverse()\n",
    "print(new_list)"
   ]
  },
  {
   "cell_type": "code",
   "execution_count": 109,
   "metadata": {},
   "outputs": [
    {
     "data": {
      "text/plain": [
       "[[1, 4, 7], [2, 5, 8], [3, 6, 9]]"
      ]
     },
     "execution_count": 109,
     "metadata": {},
     "output_type": "execute_result"
    }
   ],
   "source": [
    "#b. Print the elements column by column (first the first column then the second then the third): [1,4,7],[2,5,8],[3,6,9]\n",
    "m = [[1,2,3],[4,5,6],[7,8,9]]\n",
    "np.transpose(m).tolist()"
   ]
  },
  {
   "cell_type": "code",
   "execution_count": 104,
   "metadata": {},
   "outputs": [
    {
     "name": "stdout",
     "output_type": "stream",
     "text": [
      "1\n",
      "5\n",
      "9\n",
      "1\n",
      "5\n",
      "9\n"
     ]
    }
   ],
   "source": [
    "#c. Print the first element of the first row, the second element of the second row, the third element of the third row\n",
    "m = [[1,2,3],[4,5,6],[7,8,9]]\n",
    "\n",
    "print(m[0][0])\n",
    "print(m[1][1])\n",
    "print(m[2][2])\n",
    "\n",
    "for i in range(len(m)):\n",
    "    print(m[i][i])\n"
   ]
  },
  {
   "cell_type": "code",
   "execution_count": 108,
   "metadata": {},
   "outputs": [
    {
     "name": "stdout",
     "output_type": "stream",
     "text": [
      "1\n",
      "5\n",
      "9\n"
     ]
    }
   ],
   "source": [
    "#d. Using two for loops, print the elements in the diagonal, i.e. elements where the \n",
    "# column index if equal to the row index, i.e. 1,5,9\n",
    "\n",
    "for i in range(len(m)):\n",
    "    for s in range(len(m[i])):\n",
    "        if(i == s):\n",
    "            print(m[i][s])\n"
   ]
  }
 ],
 "metadata": {
  "kernelspec": {
   "display_name": "Python 2",
   "language": "python",
   "name": "python2"
  },
  "language_info": {
   "codemirror_mode": {
    "name": "ipython",
    "version": 2
   },
   "file_extension": ".py",
   "mimetype": "text/x-python",
   "name": "python",
   "nbconvert_exporter": "python",
   "pygments_lexer": "ipython2",
   "version": "2.7.14"
  }
 },
 "nbformat": 4,
 "nbformat_minor": 2
}
