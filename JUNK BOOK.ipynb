{
 "cells": [
  {
   "cell_type": "code",
   "execution_count": null,
   "metadata": {},
   "outputs": [],
   "source": [
    "#4. Given the dictionary {“name”:”angela”, “surname\":”lee”}, how do you extract the value of the surname (i.e. “lee”)?\n",
    "\n",
    "a = {'name': 'angela', 'surname':'lee'}\n",
    "\n",
    "a.get('surname')\n",
    "\n",
    "a.keys()[a.values().index('lee')] # Prints Surname / Reverse lookup\n",
    "\n"
   ]
  },
  {
   "cell_type": "code",
   "execution_count": null,
   "metadata": {},
   "outputs": [],
   "source": [
    "pokedex = {\n",
    "    1:{'name':'charmander',\n",
    "        'type': 'fire',\n",
    "        'hp': 100,\n",
    "        'attack': 100,\n",
    "        'defense': 100,\n",
    "        'special_attack': 100,\n",
    "        'special_defense': 100,\n",
    "        'speed': 100\n",
    "      },\n",
    "    2:{'name':'squirtle',\n",
    "        'type': 'water',\n",
    "        'hp': 99,\n",
    "        'attack': 99,\n",
    "        'defense': 99,\n",
    "        'special_attack': 99,\n",
    "        'special_defense': 99,\n",
    "        'speed': 99\n",
    "      },\n",
    "    3:{'name':'bulbasaur',\n",
    "        'type': 'poison',\n",
    "        'hp': 97,\n",
    "        'attack': 97,\n",
    "        'defense': 97,\n",
    "        'special_attack': 97,\n",
    "        'special_defense': 97,\n",
    "        'speed': 97\n",
    "      }\n",
    "        \n",
    "    \n",
    "}"
   ]
  },
  {
   "cell_type": "code",
   "execution_count": null,
   "metadata": {},
   "outputs": [],
   "source": [
    "pokedex[[n[0] for n in pokedex.items() if n[1]['name'] == 'charmander'][0]]"
   ]
  },
  {
   "cell_type": "code",
   "execution_count": null,
   "metadata": {},
   "outputs": [],
   "source": []
  },
  {
   "cell_type": "code",
   "execution_count": null,
   "metadata": {},
   "outputs": [],
   "source": [
    "count1 = 0\n",
    "count2 = 0\n",
    "\n",
    "print(len(pokemon_gyms))\n",
    "\n",
    "for n in pokemon_gyms:\n",
    "    count1 += 1\n",
    "    for k, v in players.items():\n",
    "        count2 += 1\n",
    "        if n in v.gyms_visited:\n",
    "            pprint('{0}, has visited {1}'.format(v.player_name, n))\n",
    "            \n",
    "print('Count 1: '+str(count1))\n",
    "print('Count 2: '+str(count2))\n"
   ]
  },
  {
   "cell_type": "code",
   "execution_count": 15,
   "metadata": {},
   "outputs": [
    {
     "data": {
      "text/plain": [
       "['001', 'Bulbasaur', 'GrassPoison', '318', '45', '49', '49', '65', '65', '45']"
      ]
     },
     "execution_count": 15,
     "metadata": {},
     "output_type": "execute_result"
    }
   ],
   "source": [
    "a = ['\"001\",\"Bulbasaur\",\"GrassPoison\",\"318\",\"45\",\"49\",\"49\",\"65\",\"65\",\"45\"']\n",
    "\n",
    "[m.replace('\"','') for m in a[0].split(\",\")]"
   ]
  },
  {
   "cell_type": "code",
   "execution_count": 17,
   "metadata": {},
   "outputs": [
    {
     "data": {
      "text/plain": [
       "[1.0, 318.0, 45.0, 49.0, 49.0, 65.0, 65.0, 45.0]"
      ]
     },
     "execution_count": 17,
     "metadata": {},
     "output_type": "execute_result"
    }
   ],
   "source": [
    "#[float(n) for n in [m.replace('\"','') for m in a.split(\",\")] if n.isnumeric()]\n",
    "\n",
    "[float(n) for n in [m.replace('\"','') for m in a[0].split(\",\")] if n.isdigit()]"
   ]
  },
  {
   "cell_type": "code",
   "execution_count": null,
   "metadata": {},
   "outputs": [],
   "source": [
    "a ='123123'\n",
    "a.isdigit()"
   ]
  },
  {
   "cell_type": "code",
   "execution_count": 18,
   "metadata": {},
   "outputs": [
    {
     "data": {
      "text/plain": [
       "[('f', 0),\n",
       " ('o', 0),\n",
       " ('o', 0),\n",
       " ('b', 0),\n",
       " ('a', 0),\n",
       " ('r', 0),\n",
       " ('b', 1),\n",
       " ('a', 1),\n",
       " ('z', 1),\n",
       " ('t', 1),\n",
       " ('a', 1),\n",
       " ('z', 1),\n",
       " ('k', 2),\n",
       " ('o', 2),\n",
       " ('k', 2),\n",
       " ('o', 2)]"
      ]
     },
     "execution_count": 18,
     "metadata": {},
     "output_type": "execute_result"
    }
   ],
   "source": [
    "strings = [ ['foo', 'bar'], ['baz', 'taz'], ['w', 'koko'] ]\n",
    "[ (letter, idx) for idx, lst in enumerate(strings) for word in lst if len(word)>2 for letter in word]\n"
   ]
  },
  {
   "cell_type": "code",
   "execution_count": null,
   "metadata": {},
   "outputs": [],
   "source": [
    "#### TRADITIONAL ####\n",
    "#pokedex = []\n",
    "#templist = []\n",
    "#for line in raw_pd.splitlines():\n",
    "#    itemlist = line.split(\",\")\n",
    "#    for items in itemlist:\n",
    "#        if items.isdigit():\n",
    "#            templist.append(float(items))\n",
    "#        else:\n",
    "#            templist.append(items)\n",
    "#    pokedex.append(templist)\n",
    "\n",
    "\n",
    "#print(pokedex)\n",
    "\n",
    "#[[line][0].split(',') for line in raw_pd.splitlines()]\n",
    "\n",
    "#[n.replace('\"','') for row in [[line][0].split(',') for line in raw_pd.splitlines()] for n in row]\n",
    "\n",
    "[[line][0].split(',') for line in raw_pd.split('\\n')]\n",
    "\n",
    "headers = df.columns.tolist()\n",
    "\n",
    "body= df.values.tolist()\n",
    "\n",
    "pokedex = [headers]+body\n",
    "\n",
    "pprint(pokedex)\n",
    "\n",
    "\n",
    "[[l if not l.isdigit() else float(l) for l in k] for k in [[j.strip(\"'\") for j in i] for i in [[line][0].split(',') for line in raw_pd.replace('\"',\"'\").split('\\n')]]]"
   ]
  },
  {
   "cell_type": "code",
   "execution_count": 5,
   "metadata": {},
   "outputs": [
    {
     "name": "stdout",
     "output_type": "stream",
     "text": [
      "[[1 2 3]\n",
      " [4 5 6]\n",
      " [7 8 9]]\n",
      "[1 2 3 5 6 9]\n",
      "[1, 2, 3, 5, 6, 9]\n",
      "[2 3 6]\n"
     ]
    }
   ],
   "source": [
    "import numpy as np\n",
    "\n",
    "a = np.array([[1,2,3],[4,5,6],[7,8,9]])\n",
    "print(a)\n",
    "\n",
    "'''array([[1, 2, 3],\n",
    "       [4, 5, 6],\n",
    "       [7, 8, 9]])'''\n",
    "\n",
    "print(a[np.triu_indices(3)])\n",
    "#or\n",
    "print(list(a[np.triu_indices(3)]))\n",
    "\n",
    "print(a[np.triu_indices(3, k = 1)])\n",
    "\n"
   ]
  },
  {
   "cell_type": "code",
   "execution_count": 8,
   "metadata": {},
   "outputs": [
    {
     "data": {
      "text/plain": [
       "array([[0, 0, 0],\n",
       "       [4, 0, 0],\n",
       "       [7, 8, 0]])"
      ]
     },
     "execution_count": 8,
     "metadata": {},
     "output_type": "execute_result"
    }
   ],
   "source": [
    "a = np.array([[1,2,3],[4,5,6],[7,8,9]])\n",
    "a\n",
    "'''array([[1, 2, 3],\n",
    "           [4, 5, 6],\n",
    "           [7, 8, 9]])\n",
    "tri_upper_diag = np.triu(a, k=0)\n",
    "tri_upper_diag\n",
    "   array([[1, 2, 3],\n",
    "           [0, 5, 6],\n",
    "           [0, 0, 9]])\n",
    "\n",
    "tri_upper_no_diag = np.triu(a, k=1)\n",
    "tri_upper_no_diag\n",
    "    array([[0, 2, 3],\n",
    "           [0, 0, 6],\n",
    "           [0, 0, 0]])\n",
    "\n",
    "tri_lower_diag = np.tril(a, k=0)\n",
    "tri_lower_diag\n",
    "    array([[1, 0, 0],\n",
    "           [4, 5, 0],\n",
    "           [7, 8, 9]])\n",
    "\n",
    "tri_lower_no_diag = np.tril(a, k=-1)\n",
    "tri_lower_no_diag\n",
    "array([[0, 0, 0],\n",
    "           [4, 0, 0],\n",
    "           [7, 8, 0]])'''\n",
    "\n",
    "a = np.array([[1,2,3],[4,5,6],[7,8,9]])\n",
    "a\n",
    "\n",
    "tri_upper_diag = np.triu(a, k=0)\n",
    "tri_upper_diag\n",
    "\n",
    "\n",
    "tri_upper_no_diag = np.triu(a, k=1)\n",
    "tri_upper_no_diag\n",
    "\n",
    "\n",
    "tri_lower_diag = np.tril(a, k=0)\n",
    "tri_lower_diag\n",
    "\n",
    "\n",
    "tri_lower_no_diag = np.tril(a, k=-1)\n",
    "tri_lower_no_diag\n",
    "\n"
   ]
  },
  {
   "cell_type": "code",
   "execution_count": null,
   "metadata": {},
   "outputs": [],
   "source": [
    ">>> s = 'sdsd'\n",
    ">>> s.upper()\n",
    "'SDSD'\n",
    "\n",
    "def listfixer(tofix):\n",
    "    \n",
    "    reverse_list = tofix[::-1]\n",
    "    \n",
    "    odd_list = tofix[1::2]\n",
    "    \n",
    "    return(reverse_list, odd_list)\n",
    "    \n",
    "    '''tofix2 = list(tofix)\n",
    "    fixed_rev = tofix\n",
    "    fixed_rev.reverse()\n",
    "    fixed_odd = [i for i in tofix2 if tofix2.index(i) % 2 != 0]\n",
    "    return (fixed_rev, fixed_odd)'''\n",
    "\n",
    "print(range(10))\n",
    "listfixer(range(10))"
   ]
  },
  {
   "cell_type": "markdown",
   "metadata": {},
   "source": [
    "Skewness and measures of central tendency\n",
    "The mean, median, and mode are affected by skewness.\n",
    "\n",
    "When a distribution is symmetric, the mean, median, and mode are the same.\n",
    "\n",
    "Symmetric: mean == median == mode\n",
    "\n",
    "When a distribution is negatively skewed, the mean is less than the median, which is less than the mode.\n",
    "\n",
    "Negative skew: mean < median < mode\n",
    "\n",
    "When a distribution is positively skewed, the mean is greater than the median, which is greater than the mode.\n",
    "\n",
    "Positive skew: mode < median < mean"
   ]
  },
  {
   "cell_type": "code",
   "execution_count": null,
   "metadata": {},
   "outputs": [],
   "source": [
    "print('Mean: {0}   Median: {1}   Mode: {2}'.format(np.mean(dist), np.median(dist), mode(rounded)[0][0]))\n",
    "\n",
    "if np.mean(dist) < np.median(dist) < mode(rounded)[0][0]:\n",
    "    print('Negative Skew')\n",
    "elif mode(rounded)[0][0] < np.median(dist) < np.mean(dist):\n",
    "    print('Positive Skew')\n"
   ]
  },
  {
   "cell_type": "code",
   "execution_count": null,
   "metadata": {},
   "outputs": [],
   "source": [
    "def getUniqueWords(allWords) :\n",
    "    uniqueWords = [] \n",
    "    for i in allWords:\n",
    "        if not i in uniqueWords:\n",
    "            uniqueWords.append(i)\n",
    "    return uniqueWords\n",
    "\n",
    "print getUniqueWords(['a','b','c','a','b']);"
   ]
  },
  {
   "cell_type": "code",
   "execution_count": null,
   "metadata": {},
   "outputs": [],
   "source": [
    "import csv\n",
    "print 'Opening File. Data: '\n",
    "csv_rows = []\n",
    "with open('./datasets/sales_info.csv', 'rU') as f:\n",
    "    reader = csv.reader(f)\n",
    "    for row in reader:\n",
    "        csv_rows.append(row)\n",
    "f.close()\n",
    "print 'file closed'   # Always remember to close the file after writing to it!\n",
    "\n",
    "https://stats.stackexchange.com/questions/70801/how-to-normalize-data-to-0-1-range\n"
   ]
  },
  {
   "cell_type": "code",
   "execution_count": null,
   "metadata": {},
   "outputs": [],
   "source": [
    "def get_redundant_pairs(df):\n",
    "    '''Get diagonal and lower triangular pairs of correlation matrix'''\n",
    "    pairs_to_drop = set()\n",
    "    cols = df.columns\n",
    "    for i in range(0, df.shape[1]):\n",
    "        for j in range(0, i+1):\n",
    "            pairs_to_drop.add((cols[i], cols[j]))\n",
    "    return pairs_to_drop\n",
    "\n",
    "def get_top_abs_correlations(df, n=5):\n",
    "    au_corr = df.corr().abs().unstack()\n",
    "    labels_to_drop = get_redundant_pairs(df)\n",
    "    au_corr = au_corr.drop(labels=labels_to_drop).sort_values(ascending=False)\n",
    "    return au_corr[0:n]\n",
    "\n",
    "print(\"Top Absolute Correlations\")\n",
    "print(get_top_abs_correlations(house_df, 3))\n"
   ]
  }
 ],
 "metadata": {
  "kernelspec": {
   "display_name": "Python 2",
   "language": "python",
   "name": "python2"
  },
  "language_info": {
   "codemirror_mode": {
    "name": "ipython",
    "version": 2
   },
   "file_extension": ".py",
   "mimetype": "text/x-python",
   "name": "python",
   "nbconvert_exporter": "python",
   "pygments_lexer": "ipython2",
   "version": "2.7.14"
  }
 },
 "nbformat": 4,
 "nbformat_minor": 2
}
