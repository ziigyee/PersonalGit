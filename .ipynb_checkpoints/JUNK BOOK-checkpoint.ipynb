{
 "cells": [
  {
   "cell_type": "code",
   "execution_count": null,
   "metadata": {},
   "outputs": [],
   "source": [
    "#4. Given the dictionary {“name”:”angela”, “surname\":”lee”}, how do you extract the value of the surname (i.e. “lee”)?\n",
    "\n",
    "a = {'name': 'angela', 'surname':'lee'}\n",
    "\n",
    "a.get('surname')\n",
    "\n",
    "a.keys()[a.values().index('lee')] # Prints Surname / Reverse lookup\n",
    "\n"
   ]
  },
  {
   "cell_type": "code",
   "execution_count": null,
   "metadata": {},
   "outputs": [],
   "source": [
    "pokedex = {\n",
    "    1:{'name':'charmander',\n",
    "        'type': 'fire',\n",
    "        'hp': 100,\n",
    "        'attack': 100,\n",
    "        'defense': 100,\n",
    "        'special_attack': 100,\n",
    "        'special_defense': 100,\n",
    "        'speed': 100\n",
    "      },\n",
    "    2:{'name':'squirtle',\n",
    "        'type': 'water',\n",
    "        'hp': 99,\n",
    "        'attack': 99,\n",
    "        'defense': 99,\n",
    "        'special_attack': 99,\n",
    "        'special_defense': 99,\n",
    "        'speed': 99\n",
    "      },\n",
    "    3:{'name':'bulbasaur',\n",
    "        'type': 'poison',\n",
    "        'hp': 97,\n",
    "        'attack': 97,\n",
    "        'defense': 97,\n",
    "        'special_attack': 97,\n",
    "        'special_defense': 97,\n",
    "        'speed': 97\n",
    "      }\n",
    "        \n",
    "    \n",
    "}"
   ]
  },
  {
   "cell_type": "code",
   "execution_count": null,
   "metadata": {},
   "outputs": [],
   "source": [
    "pokedex[[n[0] for n in pokedex.items() if n[1]['name'] == 'charmander'][0]]"
   ]
  },
  {
   "cell_type": "code",
   "execution_count": null,
   "metadata": {},
   "outputs": [],
   "source": []
  },
  {
   "cell_type": "code",
   "execution_count": null,
   "metadata": {},
   "outputs": [],
   "source": [
    "count1 = 0\n",
    "count2 = 0\n",
    "\n",
    "print(len(pokemon_gyms))\n",
    "\n",
    "for n in pokemon_gyms:\n",
    "    count1 += 1\n",
    "    for k, v in players.items():\n",
    "        count2 += 1\n",
    "        if n in v.gyms_visited:\n",
    "            pprint('{0}, has visited {1}'.format(v.player_name, n))\n",
    "            \n",
    "print('Count 1: '+str(count1))\n",
    "print('Count 2: '+str(count2))\n"
   ]
  },
  {
   "cell_type": "code",
   "execution_count": null,
   "metadata": {},
   "outputs": [],
   "source": [
    "a = ['\"001\",\"Bulbasaur\",\"GrassPoison\",\"318\",\"45\",\"49\",\"49\",\"65\",\"65\",\"45\"']\n",
    "\n",
    "[m.replace('\"','') for m in a[0].split(\",\")]"
   ]
  },
  {
   "cell_type": "code",
   "execution_count": null,
   "metadata": {},
   "outputs": [],
   "source": [
    "#[float(n) for n in [m.replace('\"','') for m in a.split(\",\")] if n.isnumeric()]\n",
    "\n",
    "[float(n) for n in [m.replace('\"','') for m in a[0].split(\",\")] if n.isdigit()]"
   ]
  },
  {
   "cell_type": "code",
   "execution_count": null,
   "metadata": {},
   "outputs": [],
   "source": [
    "a ='123123'\n",
    "a.isdigit()"
   ]
  },
  {
   "cell_type": "code",
   "execution_count": null,
   "metadata": {},
   "outputs": [],
   "source": [
    "strings = [ ['foo', 'bar'], ['baz', 'taz'], ['w', 'koko'] ]\n",
    "[ (letter, idx) for idx, lst in enumerate(strings) for word in lst if len(word)>2 for letter in word]\n"
   ]
  },
  {
   "cell_type": "code",
   "execution_count": null,
   "metadata": {},
   "outputs": [],
   "source": [
    "#### TRADITIONAL ####\n",
    "#pokedex = []\n",
    "#templist = []\n",
    "#for line in raw_pd.splitlines():\n",
    "#    itemlist = line.split(\",\")\n",
    "#    for items in itemlist:\n",
    "#        if items.isdigit():\n",
    "#            templist.append(float(items))\n",
    "#        else:\n",
    "#            templist.append(items)\n",
    "#    pokedex.append(templist)\n",
    "\n",
    "\n",
    "#print(pokedex)\n",
    "\n",
    "#[[line][0].split(',') for line in raw_pd.splitlines()]\n",
    "\n",
    "#[n.replace('\"','') for row in [[line][0].split(',') for line in raw_pd.splitlines()] for n in row]\n",
    "\n",
    "[[line][0].split(',') for line in raw_pd.split('\\n')]\n",
    "\n",
    "headers = df.columns.tolist()\n",
    "\n",
    "body= df.values.tolist()\n",
    "\n",
    "pokedex = [headers]+body\n",
    "\n",
    "pprint(pokedex)\n",
    "\n",
    "\n",
    "[[l if not l.isdigit() else float(l) for l in k] for k in [[j.strip(\"'\") for j in i] for i in [[line][0].split(',') for line in raw_pd.replace('\"',\"'\").split('\\n')]]]"
   ]
  },
  {
   "cell_type": "code",
   "execution_count": null,
   "metadata": {},
   "outputs": [],
   "source": [
    "import numpy as np\n",
    "\n",
    "a = np.array([[1,2,3],[4,5,6],[7,8,9]])\n",
    "print(a)\n",
    "\n",
    "'''array([[1, 2, 3],\n",
    "       [4, 5, 6],\n",
    "       [7, 8, 9]])'''\n",
    "\n",
    "print(a[np.triu_indices(3)])\n",
    "#or\n",
    "print(list(a[np.triu_indices(3)]))\n",
    "\n",
    "print(a[np.triu_indices(3, k = 1)])\n",
    "\n"
   ]
  },
  {
   "cell_type": "code",
   "execution_count": null,
   "metadata": {},
   "outputs": [],
   "source": [
    "a = np.array([[1,2,3],[4,5,6],[7,8,9]])\n",
    "a\n",
    "'''array([[1, 2, 3],\n",
    "           [4, 5, 6],\n",
    "           [7, 8, 9]])\n",
    "tri_upper_diag = np.triu(a, k=0)\n",
    "tri_upper_diag\n",
    "   array([[1, 2, 3],\n",
    "           [0, 5, 6],\n",
    "           [0, 0, 9]])\n",
    "\n",
    "tri_upper_no_diag = np.triu(a, k=1)\n",
    "tri_upper_no_diag\n",
    "    array([[0, 2, 3],\n",
    "           [0, 0, 6],\n",
    "           [0, 0, 0]])\n",
    "\n",
    "tri_lower_diag = np.tril(a, k=0)\n",
    "tri_lower_diag\n",
    "    array([[1, 0, 0],\n",
    "           [4, 5, 0],\n",
    "           [7, 8, 9]])\n",
    "\n",
    "tri_lower_no_diag = np.tril(a, k=-1)\n",
    "tri_lower_no_diag\n",
    "array([[0, 0, 0],\n",
    "           [4, 0, 0],\n",
    "           [7, 8, 0]])'''\n",
    "\n",
    "a = np.array([[1,2,3],[4,5,6],[7,8,9]])\n",
    "a\n",
    "\n",
    "tri_upper_diag = np.triu(a, k=0)\n",
    "tri_upper_diag\n",
    "\n",
    "\n",
    "tri_upper_no_diag = np.triu(a, k=1)\n",
    "tri_upper_no_diag\n",
    "\n",
    "\n",
    "tri_lower_diag = np.tril(a, k=0)\n",
    "tri_lower_diag\n",
    "\n",
    "\n",
    "tri_lower_no_diag = np.tril(a, k=-1)\n",
    "tri_lower_no_diag\n",
    "\n"
   ]
  },
  {
   "cell_type": "code",
   "execution_count": null,
   "metadata": {},
   "outputs": [],
   "source": [
    ">>> s = 'sdsd'\n",
    ">>> s.upper()\n",
    "'SDSD'\n",
    "\n",
    "def listfixer(tofix):\n",
    "    \n",
    "    reverse_list = tofix[::-1]\n",
    "    \n",
    "    odd_list = tofix[1::2]\n",
    "    \n",
    "    return(reverse_list, odd_list)\n",
    "    \n",
    "    '''tofix2 = list(tofix)\n",
    "    fixed_rev = tofix\n",
    "    fixed_rev.reverse()\n",
    "    fixed_odd = [i for i in tofix2 if tofix2.index(i) % 2 != 0]\n",
    "    return (fixed_rev, fixed_odd)'''\n",
    "\n",
    "print(range(10))\n",
    "listfixer(range(10))"
   ]
  },
  {
   "cell_type": "markdown",
   "metadata": {},
   "source": [
    "Skewness and measures of central tendency\n",
    "The mean, median, and mode are affected by skewness.\n",
    "\n",
    "When a distribution is symmetric, the mean, median, and mode are the same.\n",
    "\n",
    "Symmetric: mean == median == mode\n",
    "\n",
    "When a distribution is negatively skewed, the mean is less than the median, which is less than the mode.\n",
    "\n",
    "Negative skew: mean < median < mode\n",
    "\n",
    "When a distribution is positively skewed, the mean is greater than the median, which is greater than the mode.\n",
    "\n",
    "Positive skew: mode < median < mean"
   ]
  },
  {
   "cell_type": "code",
   "execution_count": null,
   "metadata": {},
   "outputs": [],
   "source": [
    "print('Mean: {0}   Median: {1}   Mode: {2}'.format(np.mean(dist), np.median(dist), mode(rounded)[0][0]))\n",
    "\n",
    "if np.mean(dist) < np.median(dist) < mode(rounded)[0][0]:\n",
    "    print('Negative Skew')\n",
    "elif mode(rounded)[0][0] < np.median(dist) < np.mean(dist):\n",
    "    print('Positive Skew')\n"
   ]
  },
  {
   "cell_type": "code",
   "execution_count": null,
   "metadata": {},
   "outputs": [],
   "source": [
    "def getUniqueWords(allWords) :\n",
    "    uniqueWords = [] \n",
    "    for i in allWords:\n",
    "        if not i in uniqueWords:\n",
    "            uniqueWords.append(i)\n",
    "    return uniqueWords\n",
    "\n",
    "print getUniqueWords(['a','b','c','a','b']);"
   ]
  },
  {
   "cell_type": "code",
   "execution_count": null,
   "metadata": {},
   "outputs": [],
   "source": [
    "import csv\n",
    "print 'Opening File. Data: '\n",
    "csv_rows = []\n",
    "with open('./datasets/sales_info.csv', 'rU') as f:\n",
    "    reader = csv.reader(f)\n",
    "    for row in reader:\n",
    "        csv_rows.append(row)\n",
    "f.close()\n",
    "print 'file closed'   # Always remember to close the file after writing to it!\n",
    "\n",
    "https://stats.stackexchange.com/questions/70801/how-to-normalize-data-to-0-1-range\n"
   ]
  },
  {
   "cell_type": "code",
   "execution_count": null,
   "metadata": {},
   "outputs": [],
   "source": [
    "a = [42,32,23]\n",
    "b = [4,5,6]\n",
    "\n",
    "np.corrcoef(a,b)\n"
   ]
  },
  {
   "cell_type": "code",
   "execution_count": null,
   "metadata": {},
   "outputs": [],
   "source": [
    "normalized_df = (house_df-house_df.min())/(house_df.max()-house_df.min())"
   ]
  },
  {
   "cell_type": "code",
   "execution_count": null,
   "metadata": {},
   "outputs": [],
   "source": [
    "def get_redundant_pairs(df):\n",
    "    '''Get diagonal and lower triangular pairs of correlation matrix'''\n",
    "    pairs_to_drop = set()\n",
    "    cols = df.columns\n",
    "    for i in range(0, df.shape[1]):\n",
    "        for j in range(0, i+1):\n",
    "            pairs_to_drop.add((cols[i], cols[j]))\n",
    "    return pairs_to_drop\n",
    "\n",
    "def get_top_abs_correlations(df, n=5):\n",
    "    au_corr = df.corr().abs().unstack()\n",
    "    labels_to_drop = get_redundant_pairs(df)\n",
    "    au_corr = au_corr.drop(labels=labels_to_drop).sort_values(ascending=False)\n",
    "    return au_corr[0:n]\n",
    "\n",
    "print(\"Top Absolute Correlations\")\n",
    "print(get_top_abs_correlations(house_df, 3))\n",
    "\n",
    "\n"
   ]
  },
  {
   "cell_type": "code",
   "execution_count": 2,
   "metadata": {},
   "outputs": [],
   "source": [
    "import pandas as pd\n",
    "import seaborn as sns\n",
    "import matplotlib.pyplot as plt\n",
    "import matplotlib.patches as patches\n",
    "poke_csv = pd.read_csv('pokedex_basic.csv')"
   ]
  },
  {
   "cell_type": "markdown",
   "metadata": {},
   "source": [
    "<img src=\"PokeGraph.jpg\">"
   ]
  },
  {
   "cell_type": "code",
   "execution_count": 11,
   "metadata": {},
   "outputs": [
    {
     "data": {
      "text/plain": [
       "<seaborn.axisgrid.FacetGrid at 0x1a167080d0>"
      ]
     },
     "execution_count": 11,
     "metadata": {},
     "output_type": "execute_result"
    },
    {
     "data": {
      "image/png": "[encoded data removed]",
      "text/plain": [
       "<matplotlib.figure.Figure at 0x1a162e0b90>"
      ]
     },
     "metadata": {},
     "output_type": "display_data"
    }
   ],
   "source": [
    "\n",
    "df = pd.DataFrame(poke_csv)\n",
    "\n",
    "#df['Total'].mode()\n",
    "\n",
    "normalized_df = (df['Total']-df['Total'].min())/(df['Total'].max()-df['Total'].min())\n",
    "\n",
    "one_minus_norm_df = 1-(df['Total']-df['Total'].min())/(df['Total'].max()-df['Total'].min())\n",
    "\n",
    "#df['1-Norm'] = one_minus_norm_df\n",
    "\n",
    "df['Normalized'] = normalized_df\n",
    "\n",
    "\n",
    "\n",
    "########\n",
    "a = 0.032258\n",
    "#a = max(normalized_df)\n",
    "b = 0.983871 \n",
    "#b = min(normalized_df)\n",
    "#norm_to_range_df = 1-((b-a)*(df['Total']-df['Total'].min())/(df['Total'].max()-df['Total'].min())+a)\n",
    "norm_to_range_df = 1-((b-a)*(normalized_df)+a)\n",
    "\n",
    "df['Norm to Range'] = norm_to_range_df\n",
    "\n",
    "#df['Total ZScore'] = (df['Total'] - df['Total'].mean())/df['Total'].std(ddof=0)\n",
    "\n",
    "df.sort_values(by='Norm to Range', ascending=True)\n",
    "\n",
    "#df.sort_values(by='Normalized', ascending=True)\n",
    "\n",
    "#df['Total'].mean()\n",
    "#435.1275\n",
    "\n",
    "#df[df['Total'] <= 435.1275 ]\n",
    "\n",
    "# Show the results of a linear regression within each dataset\n",
    "sns.lmplot(x=\"Total\", y=\"Norm to Range\", data=df)\n"
   ]
  },
  {
   "cell_type": "code",
   "execution_count": null,
   "metadata": {},
   "outputs": [],
   "source": [
    "fig = df['Total'].hist(figsize=(18,8), bins=100, linewidth=6)\n",
    "fig.set_axis_labels('Colors', 'Values')\n",
    "plt.show()"
   ]
  },
  {
   "cell_type": "code",
   "execution_count": null,
   "metadata": {},
   "outputs": [],
   "source": [
    "#cat_df = pd.DataFrame({'Crime Category' : crime_df.Category.unique(), \n",
    "crime_df.groupby('Category').agg('count')['Dates'].rename(columns = {'Dates': 'Counts'})\n",
    "\n",
    "sub_crime = crime_df.groupby('Category').agg('count')[['Dates']].rename(columns = {'Dates': 'Counts'}) \n",
    "\n",
    "# sub_crime.rename(columns = {'Dates': 'Counts'}, inplace = True)\n",
    "\n",
    "sub_crime = sub_crime.sort_values(by='Counts', ascending=False).reset_index()\n",
    "\n",
    "#sub_crime.reset_index(inplace=True)\n",
    "\n",
    "sub_crime"
   ]
  },
  {
   "cell_type": "code",
   "execution_count": null,
   "metadata": {},
   "outputs": [],
   "source": [
    "# CHANGE COL NAMES\n",
    "col_names = df_drugs.columns.tolist()\n",
    "# List replacement method\n",
    "import string\n",
    "# the string library has default strings that contain all letters or numbers\n",
    "uppercase = string.ascii_uppercase\n",
    "lowercase = string.ascii_lowercase\n",
    "\n",
    "df_drugs.columns = [''.join([c.lower() for c in column if c in uppercase+lowercase]) for column in df_drugs.columns]"
   ]
  }
 ],
 "metadata": {
  "kernelspec": {
   "display_name": "Python 2",
   "language": "python",
   "name": "python2"
  },
  "language_info": {
   "codemirror_mode": {
    "name": "ipython",
    "version": 2
   },
   "file_extension": ".py",
   "mimetype": "text/x-python",
   "name": "python",
   "nbconvert_exporter": "python",
   "pygments_lexer": "ipython2",
   "version": "2.7.14"
  }
 },
 "nbformat": 4,
 "nbformat_minor": 2
}
